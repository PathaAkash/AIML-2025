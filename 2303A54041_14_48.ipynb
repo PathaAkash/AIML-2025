{
  "nbformat": 4,
  "nbformat_minor": 0,
  "metadata": {
    "colab": {
      "provenance": [],
      "mount_file_id": "1rvtdBIJpERdK0AOzPm9rcOjWGEXgJt8w",
      "authorship_tag": "ABX9TyPNXyf+xQrf6j/3SvJ0gSDA",
      "include_colab_link": true
    },
    "kernelspec": {
      "name": "python3",
      "display_name": "Python 3"
    },
    "language_info": {
      "name": "python"
    }
  },
  "cells": [
    {
      "cell_type": "markdown",
      "metadata": {
        "id": "view-in-github",
        "colab_type": "text"
      },
      "source": [
        "<a href=\"https://colab.research.google.com/github/PathaAkash/AIML-2025/blob/main/2303A54041_14_48.ipynb\" target=\"_parent\"><img src=\"https://colab.research.google.com/assets/colab-badge.svg\" alt=\"Open In Colab\"/></a>"
      ]
    },
    {
      "cell_type": "code",
      "execution_count": 14,
      "metadata": {
        "id": "4hRnJ15fnl-1"
      },
      "outputs": [],
      "source": [
        "import pandas as pd"
      ]
    },
    {
      "cell_type": "code",
      "source": [
        "import pandas as pd #Make sure to import pandas and define 'pd' in the current cell\n",
        "\n",
        "file_path = \"/content/Real estate valuation data set.xlsx\"\n",
        "data = pd.read_excel(file_path)"
      ],
      "metadata": {
        "id": "n7wSmy8JpTst"
      },
      "execution_count": 15,
      "outputs": []
    },
    {
      "cell_type": "code",
      "source": [
        "top_5_house_ages = data.groupby(\"X2 house age\")[\"Y house price of unit area\"].mean() \\\n",
        "                       .sort_values(ascending=False).head(5)"
      ],
      "metadata": {
        "id": "70DbZlFNqLkT"
      },
      "execution_count": 16,
      "outputs": []
    },
    {
      "cell_type": "code",
      "source": [
        "correlation_mrt_stores = data[[\"X3 distance to the nearest MRT station\",\n",
        "                               \"X4 number of convenience stores\",\n",
        "                               \"Y house price of unit area\"]].corr()\n"
      ],
      "metadata": {
        "id": "4ghuXK03qZyb"
      },
      "execution_count": 17,
      "outputs": []
    },
    {
      "cell_type": "code",
      "source": [
        "most_transactions_date = data[\"X1 transaction date\"].mode()[0]\n"
      ],
      "metadata": {
        "id": "bRc909yoqcZz"
      },
      "execution_count": 18,
      "outputs": []
    },
    {
      "cell_type": "code",
      "source": [
        "high_value_threshold = data[\"Y house price of unit area\"].quantile(0.9)\n",
        "high_value_properties = data[data[\"Y house price of unit area\"] >= high_value_threshold]\n",
        "avg_distance_mrt = high_value_properties[\"X3 distance to the nearest MRT station\"].mean()\n",
        "avg_convenience_stores = high_value_properties[\"X4 number of convenience stores\"].mean()"
      ],
      "metadata": {
        "id": "Fz2Oe2Jqq1Ga"
      },
      "execution_count": 24,
      "outputs": []
    },
    {
      "cell_type": "code",
      "source": [
        "print(\"Top 5 house ages with the highest average estate value:\")\n",
        "print(top_5_house_ages)"
      ],
      "metadata": {
        "colab": {
          "base_uri": "https://localhost:8080/"
        },
        "id": "Y2LjriHjq40w",
        "outputId": "bee383e1-5d48-4863-c253-57bae8e16d11"
      },
      "execution_count": null,
      "outputs": [
        {
          "output_type": "stream",
          "name": "stdout",
          "text": [
            "Top 5 house ages with the highest average estate value:\n",
            "X2 house age\n",
            "10.8    117.5\n",
            "37.2     78.3\n",
            "35.4     78.0\n",
            "41.4     63.3\n",
            "5.3      63.2\n",
            "Name: Y house price of unit area, dtype: float64\n"
          ]
        }
      ]
    },
    {
      "cell_type": "code",
      "source": [
        "\n",
        "print(\"\\nCorrelation between features:\")\n",
        "print(correlation_mrt_stores)"
      ],
      "metadata": {
        "colab": {
          "base_uri": "https://localhost:8080/"
        },
        "id": "1zg3Xv0Lq89X",
        "outputId": "8139e2fd-b5e6-46fc-ae19-4920a4454323"
      },
      "execution_count": null,
      "outputs": [
        {
          "output_type": "stream",
          "name": "stdout",
          "text": [
            "\n",
            "Correlation between features:\n",
            "                                        X3 distance to the nearest MRT station  \\\n",
            "X3 distance to the nearest MRT station                                1.000000   \n",
            "X4 number of convenience stores                                      -0.602519   \n",
            "Y house price of unit area                                           -0.673613   \n",
            "\n",
            "                                        X4 number of convenience stores  \\\n",
            "X3 distance to the nearest MRT station                        -0.602519   \n",
            "X4 number of convenience stores                                1.000000   \n",
            "Y house price of unit area                                     0.571005   \n",
            "\n",
            "                                        Y house price of unit area  \n",
            "X3 distance to the nearest MRT station                   -0.673613  \n",
            "X4 number of convenience stores                           0.571005  \n",
            "Y house price of unit area                                1.000000  \n"
          ]
        }
      ]
    },
    {
      "cell_type": "code",
      "source": [
        "print(f\"\\nMaximum house price of unit area: {max_price}\")\n",
        "print(f\"Minimum house price of unit area: {min_price}\")"
      ],
      "metadata": {
        "colab": {
          "base_uri": "https://localhost:8080/"
        },
        "id": "Lc7SHDa4q_QR",
        "outputId": "129cb52b-b42a-49d2-cbcb-665ba882f510"
      },
      "execution_count": 22,
      "outputs": [
        {
          "output_type": "stream",
          "name": "stdout",
          "text": [
            "\n",
            "Maximum house price of unit area: 117.5\n",
            "Minimum house price of unit area: 7.6\n"
          ]
        }
      ]
    },
    {
      "cell_type": "code",
      "source": [
        "print(f\"\\nDate with the most transactions: {most_transactions_date}\")"
      ],
      "metadata": {
        "colab": {
          "base_uri": "https://localhost:8080/"
        },
        "id": "a3S1nR6CrBrl",
        "outputId": "ae0f59c9-6e31-4fda-9b1d-09933afcf494"
      },
      "execution_count": 21,
      "outputs": [
        {
          "output_type": "stream",
          "name": "stdout",
          "text": [
            "\n",
            "Date with the most transactions: 2013.4166667\n"
          ]
        }
      ]
    },
    {
      "cell_type": "code",
      "source": [
        "print(\"\\nClosest distances to MRT stations and average number of stores for high estate values:\")\n",
        "print(f\"Average distance to MRT: {avg_distance_mrt:.2f} meters\")\n",
        "print(f\"Average number of convenience stores: {avg_convenience_stores:.2f}\")"
      ],
      "metadata": {
        "id": "nhjyvUuUrEIg",
        "outputId": "57ec0d89-d8aa-45e3-9937-7d28e9099d78",
        "colab": {
          "base_uri": "https://localhost:8080/"
        }
      },
      "execution_count": null,
      "outputs": [
        {
          "output_type": "stream",
          "name": "stdout",
          "text": [
            "\n",
            "Closest distances to MRT stations and average number of stores for high estate values:\n",
            "Average distance to MRT: 256.99 meters\n",
            "Average number of convenience stores: 6.26\n"
          ]
        }
      ]
    }
  ]
}